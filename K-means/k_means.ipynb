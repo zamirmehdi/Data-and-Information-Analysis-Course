{
  "nbformat": 4,
  "nbformat_minor": 0,
  "metadata": {
    "colab": {
      "provenance": []
    },
    "kernelspec": {
      "name": "python3",
      "display_name": "Python 3"
    },
    "language_info": {
      "name": "python"
    }
  },
  "cells": [
    {
      "cell_type": "markdown",
      "source": [
        "## افزودن کتاب‌خانه‌های مورد استفاده"
      ],
      "metadata": {
        "id": "kGxb6uysux7r"
      }
    },
    {
      "cell_type": "code",
      "execution_count": 123,
      "metadata": {
        "id": "CvVU9mvPVyye"
      },
      "outputs": [],
      "source": [
        "import pandas as pd\n",
        "import random\n",
        "import matplotlib.pyplot as plt\n",
        "import numpy as np\n",
        "from numpy.linalg.linalg import norm"
      ]
    },
    {
      "cell_type": "markdown",
      "source": [
        "## خواندن داده از فایل"
      ],
      "metadata": {
        "id": "dHqaYlNe1Q_G"
      }
    },
    {
      "cell_type": "code",
      "source": [
        "iris = pd.read_csv('iris_data.csv', names=[\"sepal_length\", \"sepal_width\", \"petal_length\", \"petal_width\", \"target\"])\n",
        "iris"
      ],
      "metadata": {
        "colab": {
          "base_uri": "https://localhost:8080/"
        },
        "id": "S9EG6zJFV19H",
        "outputId": "7afbdb90-df38-4515-ea62-5f986f9a10c8"
      },
      "execution_count": 124,
      "outputs": [
        {
          "output_type": "execute_result",
          "data": {
            "text/plain": [
              "     sepal_length  sepal_width  petal_length  petal_width          target\n",
              "0             5.1          3.5           1.4          0.2     Iris-setosa\n",
              "1             4.9          3.0           1.4          0.2     Iris-setosa\n",
              "2             4.7          3.2           1.3          0.2     Iris-setosa\n",
              "3             4.6          3.1           1.5          0.2     Iris-setosa\n",
              "4             5.0          3.6           1.4          0.2     Iris-setosa\n",
              "..            ...          ...           ...          ...             ...\n",
              "145           6.7          3.0           5.2          2.3  Iris-virginica\n",
              "146           6.3          2.5           5.0          1.9  Iris-virginica\n",
              "147           6.5          3.0           5.2          2.0  Iris-virginica\n",
              "148           6.2          3.4           5.4          2.3  Iris-virginica\n",
              "149           5.9          3.0           5.1          1.8  Iris-virginica\n",
              "\n",
              "[150 rows x 5 columns]"
            ],
            "text/html": [
              "\n",
              "  <div id=\"df-7e819178-fec1-43e6-acee-4e5789442db7\">\n",
              "    <div class=\"colab-df-container\">\n",
              "      <div>\n",
              "<style scoped>\n",
              "    .dataframe tbody tr th:only-of-type {\n",
              "        vertical-align: middle;\n",
              "    }\n",
              "\n",
              "    .dataframe tbody tr th {\n",
              "        vertical-align: top;\n",
              "    }\n",
              "\n",
              "    .dataframe thead th {\n",
              "        text-align: right;\n",
              "    }\n",
              "</style>\n",
              "<table border=\"1\" class=\"dataframe\">\n",
              "  <thead>\n",
              "    <tr style=\"text-align: right;\">\n",
              "      <th></th>\n",
              "      <th>sepal_length</th>\n",
              "      <th>sepal_width</th>\n",
              "      <th>petal_length</th>\n",
              "      <th>petal_width</th>\n",
              "      <th>target</th>\n",
              "    </tr>\n",
              "  </thead>\n",
              "  <tbody>\n",
              "    <tr>\n",
              "      <th>0</th>\n",
              "      <td>5.1</td>\n",
              "      <td>3.5</td>\n",
              "      <td>1.4</td>\n",
              "      <td>0.2</td>\n",
              "      <td>Iris-setosa</td>\n",
              "    </tr>\n",
              "    <tr>\n",
              "      <th>1</th>\n",
              "      <td>4.9</td>\n",
              "      <td>3.0</td>\n",
              "      <td>1.4</td>\n",
              "      <td>0.2</td>\n",
              "      <td>Iris-setosa</td>\n",
              "    </tr>\n",
              "    <tr>\n",
              "      <th>2</th>\n",
              "      <td>4.7</td>\n",
              "      <td>3.2</td>\n",
              "      <td>1.3</td>\n",
              "      <td>0.2</td>\n",
              "      <td>Iris-setosa</td>\n",
              "    </tr>\n",
              "    <tr>\n",
              "      <th>3</th>\n",
              "      <td>4.6</td>\n",
              "      <td>3.1</td>\n",
              "      <td>1.5</td>\n",
              "      <td>0.2</td>\n",
              "      <td>Iris-setosa</td>\n",
              "    </tr>\n",
              "    <tr>\n",
              "      <th>4</th>\n",
              "      <td>5.0</td>\n",
              "      <td>3.6</td>\n",
              "      <td>1.4</td>\n",
              "      <td>0.2</td>\n",
              "      <td>Iris-setosa</td>\n",
              "    </tr>\n",
              "    <tr>\n",
              "      <th>...</th>\n",
              "      <td>...</td>\n",
              "      <td>...</td>\n",
              "      <td>...</td>\n",
              "      <td>...</td>\n",
              "      <td>...</td>\n",
              "    </tr>\n",
              "    <tr>\n",
              "      <th>145</th>\n",
              "      <td>6.7</td>\n",
              "      <td>3.0</td>\n",
              "      <td>5.2</td>\n",
              "      <td>2.3</td>\n",
              "      <td>Iris-virginica</td>\n",
              "    </tr>\n",
              "    <tr>\n",
              "      <th>146</th>\n",
              "      <td>6.3</td>\n",
              "      <td>2.5</td>\n",
              "      <td>5.0</td>\n",
              "      <td>1.9</td>\n",
              "      <td>Iris-virginica</td>\n",
              "    </tr>\n",
              "    <tr>\n",
              "      <th>147</th>\n",
              "      <td>6.5</td>\n",
              "      <td>3.0</td>\n",
              "      <td>5.2</td>\n",
              "      <td>2.0</td>\n",
              "      <td>Iris-virginica</td>\n",
              "    </tr>\n",
              "    <tr>\n",
              "      <th>148</th>\n",
              "      <td>6.2</td>\n",
              "      <td>3.4</td>\n",
              "      <td>5.4</td>\n",
              "      <td>2.3</td>\n",
              "      <td>Iris-virginica</td>\n",
              "    </tr>\n",
              "    <tr>\n",
              "      <th>149</th>\n",
              "      <td>5.9</td>\n",
              "      <td>3.0</td>\n",
              "      <td>5.1</td>\n",
              "      <td>1.8</td>\n",
              "      <td>Iris-virginica</td>\n",
              "    </tr>\n",
              "  </tbody>\n",
              "</table>\n",
              "<p>150 rows × 5 columns</p>\n",
              "</div>\n",
              "      <button class=\"colab-df-convert\" onclick=\"convertToInteractive('df-7e819178-fec1-43e6-acee-4e5789442db7')\"\n",
              "              title=\"Convert this dataframe to an interactive table.\"\n",
              "              style=\"display:none;\">\n",
              "        \n",
              "  <svg xmlns=\"http://www.w3.org/2000/svg\" height=\"24px\"viewBox=\"0 0 24 24\"\n",
              "       width=\"24px\">\n",
              "    <path d=\"M0 0h24v24H0V0z\" fill=\"none\"/>\n",
              "    <path d=\"M18.56 5.44l.94 2.06.94-2.06 2.06-.94-2.06-.94-.94-2.06-.94 2.06-2.06.94zm-11 1L8.5 8.5l.94-2.06 2.06-.94-2.06-.94L8.5 2.5l-.94 2.06-2.06.94zm10 10l.94 2.06.94-2.06 2.06-.94-2.06-.94-.94-2.06-.94 2.06-2.06.94z\"/><path d=\"M17.41 7.96l-1.37-1.37c-.4-.4-.92-.59-1.43-.59-.52 0-1.04.2-1.43.59L10.3 9.45l-7.72 7.72c-.78.78-.78 2.05 0 2.83L4 21.41c.39.39.9.59 1.41.59.51 0 1.02-.2 1.41-.59l7.78-7.78 2.81-2.81c.8-.78.8-2.07 0-2.86zM5.41 20L4 18.59l7.72-7.72 1.47 1.35L5.41 20z\"/>\n",
              "  </svg>\n",
              "      </button>\n",
              "      \n",
              "  <style>\n",
              "    .colab-df-container {\n",
              "      display:flex;\n",
              "      flex-wrap:wrap;\n",
              "      gap: 12px;\n",
              "    }\n",
              "\n",
              "    .colab-df-convert {\n",
              "      background-color: #E8F0FE;\n",
              "      border: none;\n",
              "      border-radius: 50%;\n",
              "      cursor: pointer;\n",
              "      display: none;\n",
              "      fill: #1967D2;\n",
              "      height: 32px;\n",
              "      padding: 0 0 0 0;\n",
              "      width: 32px;\n",
              "    }\n",
              "\n",
              "    .colab-df-convert:hover {\n",
              "      background-color: #E2EBFA;\n",
              "      box-shadow: 0px 1px 2px rgba(60, 64, 67, 0.3), 0px 1px 3px 1px rgba(60, 64, 67, 0.15);\n",
              "      fill: #174EA6;\n",
              "    }\n",
              "\n",
              "    [theme=dark] .colab-df-convert {\n",
              "      background-color: #3B4455;\n",
              "      fill: #D2E3FC;\n",
              "    }\n",
              "\n",
              "    [theme=dark] .colab-df-convert:hover {\n",
              "      background-color: #434B5C;\n",
              "      box-shadow: 0px 1px 3px 1px rgba(0, 0, 0, 0.15);\n",
              "      filter: drop-shadow(0px 1px 2px rgba(0, 0, 0, 0.3));\n",
              "      fill: #FFFFFF;\n",
              "    }\n",
              "  </style>\n",
              "\n",
              "      <script>\n",
              "        const buttonEl =\n",
              "          document.querySelector('#df-7e819178-fec1-43e6-acee-4e5789442db7 button.colab-df-convert');\n",
              "        buttonEl.style.display =\n",
              "          google.colab.kernel.accessAllowed ? 'block' : 'none';\n",
              "\n",
              "        async function convertToInteractive(key) {\n",
              "          const element = document.querySelector('#df-7e819178-fec1-43e6-acee-4e5789442db7');\n",
              "          const dataTable =\n",
              "            await google.colab.kernel.invokeFunction('convertToInteractive',\n",
              "                                                     [key], {});\n",
              "          if (!dataTable) return;\n",
              "\n",
              "          const docLinkHtml = 'Like what you see? Visit the ' +\n",
              "            '<a target=\"_blank\" href=https://colab.research.google.com/notebooks/data_table.ipynb>data table notebook</a>'\n",
              "            + ' to learn more about interactive tables.';\n",
              "          element.innerHTML = '';\n",
              "          dataTable['output_type'] = 'display_data';\n",
              "          await google.colab.output.renderOutput(dataTable, element);\n",
              "          const docLink = document.createElement('div');\n",
              "          docLink.innerHTML = docLinkHtml;\n",
              "          element.appendChild(docLink);\n",
              "        }\n",
              "      </script>\n",
              "    </div>\n",
              "  </div>\n",
              "  "
            ]
          },
          "metadata": {},
          "execution_count": 124
        }
      ]
    },
    {
      "cell_type": "markdown",
      "source": [
        "## نمایش گرافیکی داده برحسب ویژگی طول سپال برای نمونه"
      ],
      "metadata": {
        "id": "oMB4aI7t1Xm5"
      }
    },
    {
      "cell_type": "code",
      "source": [
        "iris.plot(kind=\"scatter\", x = 'target', y = 'sepal_length')\n",
        "plt.show()"
      ],
      "metadata": {
        "colab": {
          "base_uri": "https://localhost:8080/",
          "height": 279
        },
        "id": "9_pJrFTjbDH2",
        "outputId": "7958d4d6-447b-4208-970b-2fe002e4960f"
      },
      "execution_count": null,
      "outputs": [
        {
          "output_type": "display_data",
          "data": {
            "text/plain": [
              "<Figure size 432x288 with 1 Axes>"
            ],
            "image/png": "[encoded data removed]"
          },
          "metadata": {
            "needs_background": "light"
          }
        }
      ]
    },
    {
      "cell_type": "markdown",
      "source": [
        "# پیش‌پردازش"
      ],
      "metadata": {
        "id": "ZdCpUYk31ngb"
      }
    },
    {
      "cell_type": "markdown",
      "source": [
        "## پیدا کردن سطرهای بدون مقدار و ناقص"
      ],
      "metadata": {
        "id": "xWybm0Eb1qNX"
      }
    },
    {
      "cell_type": "code",
      "source": [
        "def print_nans():\n",
        "    # Find and show NaNs\n",
        "    print('Number of sepal_length NaNs:', len(iris[iris['sepal_length'].isna()]))\n",
        "    print(iris[iris['sepal_length'].isna()])\n",
        "    # print(len(df['sepal_length'].dropna()))\n",
        "\n",
        "    # print((df['sepal_length'].isna()).where(df['sepal_length'] == True))\n",
        "    # print_hi('PyCharm')\n",
        "\n",
        "    print('\\n\\nNumber of sepal_width NaNs:', len(iris[iris['sepal_width'].isna()]))\n",
        "    print(iris[iris['sepal_width'].isna()])\n",
        "\n",
        "    print('\\n\\nNumber of petal_length NaNs:', len(iris[iris['petal_length'].isna()]))\n",
        "    print(iris[iris['petal_length'].isna()])\n",
        "\n",
        "    print('\\n\\nNumber of petal_width NaNs:', len(iris[iris['petal_width'].isna()]))\n",
        "    print(iris[iris['petal_width'].isna()])\n",
        "\n",
        "    print('\\n\\nNumber of target NaNs:', len(iris[iris['target'].isna()]))\n",
        "    print(iris[iris['target'].isna()])"
      ],
      "metadata": {
        "id": "sQU2OkhUZ1cK"
      },
      "execution_count": null,
      "outputs": []
    },
    {
      "cell_type": "code",
      "source": [
        "print_nans()"
      ],
      "metadata": {
        "colab": {
          "base_uri": "https://localhost:8080/"
        },
        "id": "s6opRcjRexj_",
        "outputId": "742c0b37-d30f-49ed-a356-7cd1154fd4e9"
      },
      "execution_count": null,
      "outputs": [
        {
          "output_type": "stream",
          "name": "stdout",
          "text": [
            "Number of sepal_length NaNs: 0\n",
            "Empty DataFrame\n",
            "Columns: [sepal_length, sepal_width, petal_length, petal_width, target]\n",
            "Index: []\n",
            "\n",
            "\n",
            "Number of sepal_width NaNs: 0\n",
            "Empty DataFrame\n",
            "Columns: [sepal_length, sepal_width, petal_length, petal_width, target]\n",
            "Index: []\n",
            "\n",
            "\n",
            "Number of petal_length NaNs: 0\n",
            "Empty DataFrame\n",
            "Columns: [sepal_length, sepal_width, petal_length, petal_width, target]\n",
            "Index: []\n",
            "\n",
            "\n",
            "Number of petal_width NaNs: 0\n",
            "Empty DataFrame\n",
            "Columns: [sepal_length, sepal_width, petal_length, petal_width, target]\n",
            "Index: []\n",
            "\n",
            "\n",
            "Number of target NaNs: 0\n",
            "Empty DataFrame\n",
            "Columns: [sepal_length, sepal_width, petal_length, petal_width, target]\n",
            "Index: []\n"
          ]
        }
      ]
    },
    {
      "cell_type": "markdown",
      "source": [
        "همانطور که می‌بینیم، تمامی سطرها مقدار دارند و سطر بدون مقدار نداریم"
      ],
      "metadata": {
        "id": "kk14wLjN1yrK"
      }
    },
    {
      "cell_type": "markdown",
      "source": [
        "## حذف داده‌های ناقص و بدون مقدار"
      ],
      "metadata": {
        "id": "E5c5zLNF1_Jt"
      }
    },
    {
      "cell_type": "code",
      "source": [
        "def remove_nans():\n",
        "    # print(df[df.isna()])\n",
        "    global iris\n",
        "    print('\\n\\nNumber of rows = ', len(iris))\n",
        "    iris = iris.dropna()\n",
        "    iris.reset_index(drop=True)\n",
        "    print('NaNs were removed. Number of rows = ', len(iris))"
      ],
      "metadata": {
        "id": "gwu7d2jyambZ"
      },
      "execution_count": null,
      "outputs": []
    },
    {
      "cell_type": "code",
      "source": [
        "remove_nans()"
      ],
      "metadata": {
        "colab": {
          "base_uri": "https://localhost:8080/"
        },
        "id": "9jbpZIh7fT-_",
        "outputId": "355ed1ec-067b-4e42-ccd7-b27021c2700c"
      },
      "execution_count": null,
      "outputs": [
        {
          "output_type": "stream",
          "name": "stdout",
          "text": [
            "\n",
            "\n",
            "Number of rows =  150\n",
            "NaNs were removed. Number of rows =  150\n"
          ]
        }
      ]
    },
    {
      "cell_type": "markdown",
      "source": [
        "همانطور که می‌بینیم، هیچ سطری تغییر نکرد زیرا تمامی سطرها مقدار دارند و سطر بدون مقدار نداریم"
      ],
      "metadata": {
        "id": "yhUUrwD12Epg"
      }
    },
    {
      "cell_type": "markdown",
      "source": [
        "# پیاده‌سازی K-means"
      ],
      "metadata": {
        "id": "tIomfq5E2JKK"
      }
    },
    {
      "cell_type": "markdown",
      "source": [
        "## ابتدا باید به هر نمونه داده، یک کلاس را به صورت رندم اختصاص بدهیم"
      ],
      "metadata": {
        "id": "fJ3MIUWw2OOa"
      }
    },
    {
      "cell_type": "code",
      "source": [
        "def apply_clusters(nodes, number_of_clusters):\n",
        "    nodes['cluster'] = nodes.apply(lambda x: random.randint(0, number_of_clusters-1), axis=1)"
      ],
      "metadata": {
        "id": "D-ipmOlFWZCT"
      },
      "execution_count": null,
      "outputs": []
    },
    {
      "cell_type": "code",
      "source": [
        "apply_clusters(iris, 3)\n",
        "iris"
      ],
      "metadata": {
        "colab": {
          "base_uri": "https://localhost:8080/",
          "height": 424
        },
        "id": "iZPVYSZxjDX3",
        "outputId": "47321255-97bd-4d09-d5d6-731a2e4948c8"
      },
      "execution_count": null,
      "outputs": [
        {
          "output_type": "execute_result",
          "data": {
            "text/plain": [
              "     sepal_length  sepal_width  petal_length  petal_width          target  \\\n",
              "0             5.1          3.5           1.4          0.2     Iris-setosa   \n",
              "1             4.9          3.0           1.4          0.2     Iris-setosa   \n",
              "2             4.7          3.2           1.3          0.2     Iris-setosa   \n",
              "3             4.6          3.1           1.5          0.2     Iris-setosa   \n",
              "4             5.0          3.6           1.4          0.2     Iris-setosa   \n",
              "..            ...          ...           ...          ...             ...   \n",
              "145           6.7          3.0           5.2          2.3  Iris-virginica   \n",
              "146           6.3          2.5           5.0          1.9  Iris-virginica   \n",
              "147           6.5          3.0           5.2          2.0  Iris-virginica   \n",
              "148           6.2          3.4           5.4          2.3  Iris-virginica   \n",
              "149           5.9          3.0           5.1          1.8  Iris-virginica   \n",
              "\n",
              "     cluster  \n",
              "0          0  \n",
              "1          2  \n",
              "2          1  \n",
              "3          2  \n",
              "4          1  \n",
              "..       ...  \n",
              "145        2  \n",
              "146        1  \n",
              "147        2  \n",
              "148        0  \n",
              "149        0  \n",
              "\n",
              "[150 rows x 6 columns]"
            ],
            "text/html": [
              "\n",
              "  <div id=\"df-2a133381-fa17-4587-bc7c-6a30a812ff95\">\n",
              "    <div class=\"colab-df-container\">\n",
              "      <div>\n",
              "<style scoped>\n",
              "    .dataframe tbody tr th:only-of-type {\n",
              "        vertical-align: middle;\n",
              "    }\n",
              "\n",
              "    .dataframe tbody tr th {\n",
              "        vertical-align: top;\n",
              "    }\n",
              "\n",
              "    .dataframe thead th {\n",
              "        text-align: right;\n",
              "    }\n",
              "</style>\n",
              "<table border=\"1\" class=\"dataframe\">\n",
              "  <thead>\n",
              "    <tr style=\"text-align: right;\">\n",
              "      <th></th>\n",
              "      <th>sepal_length</th>\n",
              "      <th>sepal_width</th>\n",
              "      <th>petal_length</th>\n",
              "      <th>petal_width</th>\n",
              "      <th>target</th>\n",
              "      <th>cluster</th>\n",
              "    </tr>\n",
              "  </thead>\n",
              "  <tbody>\n",
              "    <tr>\n",
              "      <th>0</th>\n",
              "      <td>5.1</td>\n",
              "      <td>3.5</td>\n",
              "      <td>1.4</td>\n",
              "      <td>0.2</td>\n",
              "      <td>Iris-setosa</td>\n",
              "      <td>0</td>\n",
              "    </tr>\n",
              "    <tr>\n",
              "      <th>1</th>\n",
              "      <td>4.9</td>\n",
              "      <td>3.0</td>\n",
              "      <td>1.4</td>\n",
              "      <td>0.2</td>\n",
              "      <td>Iris-setosa</td>\n",
              "      <td>2</td>\n",
              "    </tr>\n",
              "    <tr>\n",
              "      <th>2</th>\n",
              "      <td>4.7</td>\n",
              "      <td>3.2</td>\n",
              "      <td>1.3</td>\n",
              "      <td>0.2</td>\n",
              "      <td>Iris-setosa</td>\n",
              "      <td>1</td>\n",
              "    </tr>\n",
              "    <tr>\n",
              "      <th>3</th>\n",
              "      <td>4.6</td>\n",
              "      <td>3.1</td>\n",
              "      <td>1.5</td>\n",
              "      <td>0.2</td>\n",
              "      <td>Iris-setosa</td>\n",
              "      <td>2</td>\n",
              "    </tr>\n",
              "    <tr>\n",
              "      <th>4</th>\n",
              "      <td>5.0</td>\n",
              "      <td>3.6</td>\n",
              "      <td>1.4</td>\n",
              "      <td>0.2</td>\n",
              "      <td>Iris-setosa</td>\n",
              "      <td>1</td>\n",
              "    </tr>\n",
              "    <tr>\n",
              "      <th>...</th>\n",
              "      <td>...</td>\n",
              "      <td>...</td>\n",
              "      <td>...</td>\n",
              "      <td>...</td>\n",
              "      <td>...</td>\n",
              "      <td>...</td>\n",
              "    </tr>\n",
              "    <tr>\n",
              "      <th>145</th>\n",
              "      <td>6.7</td>\n",
              "      <td>3.0</td>\n",
              "      <td>5.2</td>\n",
              "      <td>2.3</td>\n",
              "      <td>Iris-virginica</td>\n",
              "      <td>2</td>\n",
              "    </tr>\n",
              "    <tr>\n",
              "      <th>146</th>\n",
              "      <td>6.3</td>\n",
              "      <td>2.5</td>\n",
              "      <td>5.0</td>\n",
              "      <td>1.9</td>\n",
              "      <td>Iris-virginica</td>\n",
              "      <td>1</td>\n",
              "    </tr>\n",
              "    <tr>\n",
              "      <th>147</th>\n",
              "      <td>6.5</td>\n",
              "      <td>3.0</td>\n",
              "      <td>5.2</td>\n",
              "      <td>2.0</td>\n",
              "      <td>Iris-virginica</td>\n",
              "      <td>2</td>\n",
              "    </tr>\n",
              "    <tr>\n",
              "      <th>148</th>\n",
              "      <td>6.2</td>\n",
              "      <td>3.4</td>\n",
              "      <td>5.4</td>\n",
              "      <td>2.3</td>\n",
              "      <td>Iris-virginica</td>\n",
              "      <td>0</td>\n",
              "    </tr>\n",
              "    <tr>\n",
              "      <th>149</th>\n",
              "      <td>5.9</td>\n",
              "      <td>3.0</td>\n",
              "      <td>5.1</td>\n",
              "      <td>1.8</td>\n",
              "      <td>Iris-virginica</td>\n",
              "      <td>0</td>\n",
              "    </tr>\n",
              "  </tbody>\n",
              "</table>\n",
              "<p>150 rows × 6 columns</p>\n",
              "</div>\n",
              "      <button class=\"colab-df-convert\" onclick=\"convertToInteractive('df-2a133381-fa17-4587-bc7c-6a30a812ff95')\"\n",
              "              title=\"Convert this dataframe to an interactive table.\"\n",
              "              style=\"display:none;\">\n",
              "        \n",
              "  <svg xmlns=\"http://www.w3.org/2000/svg\" height=\"24px\"viewBox=\"0 0 24 24\"\n",
              "       width=\"24px\">\n",
              "    <path d=\"M0 0h24v24H0V0z\" fill=\"none\"/>\n",
              "    <path d=\"M18.56 5.44l.94 2.06.94-2.06 2.06-.94-2.06-.94-.94-2.06-.94 2.06-2.06.94zm-11 1L8.5 8.5l.94-2.06 2.06-.94-2.06-.94L8.5 2.5l-.94 2.06-2.06.94zm10 10l.94 2.06.94-2.06 2.06-.94-2.06-.94-.94-2.06-.94 2.06-2.06.94z\"/><path d=\"M17.41 7.96l-1.37-1.37c-.4-.4-.92-.59-1.43-.59-.52 0-1.04.2-1.43.59L10.3 9.45l-7.72 7.72c-.78.78-.78 2.05 0 2.83L4 21.41c.39.39.9.59 1.41.59.51 0 1.02-.2 1.41-.59l7.78-7.78 2.81-2.81c.8-.78.8-2.07 0-2.86zM5.41 20L4 18.59l7.72-7.72 1.47 1.35L5.41 20z\"/>\n",
              "  </svg>\n",
              "      </button>\n",
              "      \n",
              "  <style>\n",
              "    .colab-df-container {\n",
              "      display:flex;\n",
              "      flex-wrap:wrap;\n",
              "      gap: 12px;\n",
              "    }\n",
              "\n",
              "    .colab-df-convert {\n",
              "      background-color: #E8F0FE;\n",
              "      border: none;\n",
              "      border-radius: 50%;\n",
              "      cursor: pointer;\n",
              "      display: none;\n",
              "      fill: #1967D2;\n",
              "      height: 32px;\n",
              "      padding: 0 0 0 0;\n",
              "      width: 32px;\n",
              "    }\n",
              "\n",
              "    .colab-df-convert:hover {\n",
              "      background-color: #E2EBFA;\n",
              "      box-shadow: 0px 1px 2px rgba(60, 64, 67, 0.3), 0px 1px 3px 1px rgba(60, 64, 67, 0.15);\n",
              "      fill: #174EA6;\n",
              "    }\n",
              "\n",
              "    [theme=dark] .colab-df-convert {\n",
              "      background-color: #3B4455;\n",
              "      fill: #D2E3FC;\n",
              "    }\n",
              "\n",
              "    [theme=dark] .colab-df-convert:hover {\n",
              "      background-color: #434B5C;\n",
              "      box-shadow: 0px 1px 3px 1px rgba(0, 0, 0, 0.15);\n",
              "      filter: drop-shadow(0px 1px 2px rgba(0, 0, 0, 0.3));\n",
              "      fill: #FFFFFF;\n",
              "    }\n",
              "  </style>\n",
              "\n",
              "      <script>\n",
              "        const buttonEl =\n",
              "          document.querySelector('#df-2a133381-fa17-4587-bc7c-6a30a812ff95 button.colab-df-convert');\n",
              "        buttonEl.style.display =\n",
              "          google.colab.kernel.accessAllowed ? 'block' : 'none';\n",
              "\n",
              "        async function convertToInteractive(key) {\n",
              "          const element = document.querySelector('#df-2a133381-fa17-4587-bc7c-6a30a812ff95');\n",
              "          const dataTable =\n",
              "            await google.colab.kernel.invokeFunction('convertToInteractive',\n",
              "                                                     [key], {});\n",
              "          if (!dataTable) return;\n",
              "\n",
              "          const docLinkHtml = 'Like what you see? Visit the ' +\n",
              "            '<a target=\"_blank\" href=https://colab.research.google.com/notebooks/data_table.ipynb>data table notebook</a>'\n",
              "            + ' to learn more about interactive tables.';\n",
              "          element.innerHTML = '';\n",
              "          dataTable['output_type'] = 'display_data';\n",
              "          await google.colab.output.renderOutput(dataTable, element);\n",
              "          const docLink = document.createElement('div');\n",
              "          docLink.innerHTML = docLinkHtml;\n",
              "          element.appendChild(docLink);\n",
              "        }\n",
              "      </script>\n",
              "    </div>\n",
              "  </div>\n",
              "  "
            ]
          },
          "metadata": {},
          "execution_count": 66
        }
      ]
    },
    {
      "cell_type": "markdown",
      "source": [
        "## با  تابع زیر مراکز را آپدیت می‌کنیم. به این صورت که مرکز جدید هر دسته را برابر میانگین مقادیر آن دسته قرار می‌دهیم"
      ],
      "metadata": {
        "id": "sN0UnTW63yhk"
      }
    },
    {
      "cell_type": "code",
      "source": [
        "def calculate_centroids(nodes, number_of_clusters):\n",
        "  means = []\n",
        "  for i in range(number_of_clusters):\n",
        "    temp_nodes = nodes.loc[nodes['cluster'] == i]\n",
        "    means.append(temp_nodes.mean().iloc[0:4])\n",
        "  return means"
      ],
      "metadata": {
        "id": "Fenm_CHu3tN7"
      },
      "execution_count": 138,
      "outputs": []
    },
    {
      "cell_type": "markdown",
      "source": [
        "## با این تابع، خوشه مربوط به هر داده را با نزدیک‌ترین مرکز به آن داده بروزرسانی می‌کنیم. برای محاسبه فاصله از تفاوت مقدار فیچرها به صورت نرم شده استفاده کرده‌ایم"
      ],
      "metadata": {
        "id": "5Id6PUAb2ec3"
      }
    },
    {
      "cell_type": "code",
      "source": [
        "def update_clusters(nodes, centroids):\n",
        "  changed = False\n",
        "  for index, node in nodes.iterrows():\n",
        "    distances = [norm((node.iloc[0:4] - centroid).to_numpy()) for centroid in centroids]\n",
        "    new_cluster = distances.index(min(distances))\n",
        "    if new_cluster != node['cluster']:\n",
        "       changed = True\n",
        "    nodes.at[index, 'cluster'] = new_cluster\n",
        "  return changed"
      ],
      "metadata": {
        "id": "A8tBgwLXjtr0"
      },
      "execution_count": 125,
      "outputs": []
    },
    {
      "cell_type": "markdown",
      "source": [
        "## در یک حلقه تا جایی که مراکز دیگر آپدیت نشوند، فرایند برروزرسانی مراکز و خوشه‌ی هر داده را تکرار می‌کنیم"
      ],
      "metadata": {
        "id": "DSrH4usw3Kt_"
      }
    },
    {
      "cell_type": "code",
      "source": [
        "changed = True\n",
        "number_of_clusters = 3\n",
        "apply_clusters(iris, number_of_clusters)\n",
        "itteration = 0\n",
        "\n",
        "while changed:\n",
        "  centroids = calculate_centroids(iris, number_of_clusters)\n",
        "  changed = update_clusters(iris, centroids)\n",
        "  itteration += 1\n",
        "\n",
        "print(f'Centroids: {centroids}')\n",
        "\n",
        "print(f'Number of Itterations: {itteration}')"
      ],
      "metadata": {
        "colab": {
          "base_uri": "https://localhost:8080/"
        },
        "id": "HxSAKYDaXpn-",
        "outputId": "577f01e7-521a-4a9d-a2be-f36866413b10"
      },
      "execution_count": 140,
      "outputs": [
        {
          "output_type": "stream",
          "name": "stderr",
          "text": [
            "<ipython-input-138-875ab929879a>:5: FutureWarning: Dropping of nuisance columns in DataFrame reductions (with 'numeric_only=None') is deprecated; in a future version this will raise TypeError.  Select only valid columns before calling the reduction.\n",
            "  means.append(temp_nodes.mean().iloc[0:4])\n"
          ]
        },
        {
          "output_type": "stream",
          "name": "stdout",
          "text": [
            "Centroids: [sepal_length    5.883607\n",
            "sepal_width     2.740984\n",
            "petal_length    4.388525\n",
            "petal_width     1.434426\n",
            "dtype: float64, sepal_length    6.853846\n",
            "sepal_width     3.076923\n",
            "petal_length    5.715385\n",
            "petal_width     2.053846\n",
            "dtype: float64, sepal_length    5.006\n",
            "sepal_width     3.418\n",
            "petal_length    1.464\n",
            "petal_width     0.244\n",
            "dtype: float64]\n",
            "Number of Itterations: 13\n"
          ]
        }
      ]
    },
    {
      "cell_type": "markdown",
      "source": [
        "مراکز نهایی چاپ شده‌اند. هم چنین می‌بینی که در ۱۱ پیمایش به شرط توقف می‌رسیم و دیگر مراکز و خوشه‌ی داده‌ها تغییر نمی‌کند."
      ],
      "metadata": {
        "id": "yJzZPOyO4g12"
      }
    },
    {
      "cell_type": "markdown",
      "source": [
        "# مصورسازی"
      ],
      "metadata": {
        "id": "tMy93xvw4pbD"
      }
    },
    {
      "cell_type": "markdown",
      "source": [
        "## نمایش گرافیکی پراکندگی داده‌ها برحسب دو ویژگی که خوشه‌ها با ۳ رنگ نمایش داده‌شده‌اند. پس داده‌های همرنگ مربوط به یک خوشه هستند"
      ],
      "metadata": {
        "id": "9qU-y_dk4tNR"
      }
    },
    {
      "cell_type": "code",
      "source": [
        "plt.scatter(x = iris['petal_width'], y = iris['petal_length'], c=iris['cluster'])\n",
        "plt.show()"
      ],
      "metadata": {
        "colab": {
          "base_uri": "https://localhost:8080/",
          "height": 265
        },
        "id": "Q8QkwLr-y3m7",
        "outputId": "b4c03d03-98f5-48c2-f28a-c4b4504676d6"
      },
      "execution_count": 134,
      "outputs": [
        {
          "output_type": "display_data",
          "data": {
            "text/plain": [
              "<Figure size 432x288 with 1 Axes>"
            ],
            "image/png": "[encoded data removed]"
          },
          "metadata": {
            "needs_background": "light"
          }
        }
      ]
    },
    {
      "cell_type": "code",
      "source": [
        "plt.scatter(x = iris['sepal_width'], y = iris['sepal_length'], c=iris['cluster'])\n",
        "plt.show()"
      ],
      "metadata": {
        "colab": {
          "base_uri": "https://localhost:8080/",
          "height": 265
        },
        "id": "GaXQFVeS0hev",
        "outputId": "8ef870fe-93cf-44bb-8b30-137a8a307a6c"
      },
      "execution_count": 135,
      "outputs": [
        {
          "output_type": "display_data",
          "data": {
            "text/plain": [
              "<Figure size 432x288 with 1 Axes>"
            ],
            "image/png": "[encoded data removed]"
          },
          "metadata": {
            "needs_background": "light"
          }
        }
      ]
    },
    {
      "cell_type": "code",
      "source": [
        "plt.scatter(x = iris['petal_width'], y = iris['sepal_length'], c=iris['cluster'])\n",
        "plt.show()"
      ],
      "metadata": {
        "colab": {
          "base_uri": "https://localhost:8080/",
          "height": 265
        },
        "id": "nT4dg2N50sQh",
        "outputId": "9eda8024-762f-4afa-98c6-5d2d296fb078"
      },
      "execution_count": 136,
      "outputs": [
        {
          "output_type": "display_data",
          "data": {
            "text/plain": [
              "<Figure size 432x288 with 1 Axes>"
            ],
            "image/png": "[encoded data removed]"
          },
          "metadata": {
            "needs_background": "light"
          }
        }
      ]
    },
    {
      "cell_type": "code",
      "source": [
        "plt.scatter(x = iris['sepal_width'], y = iris['petal_length'], c=iris['cluster'])\n",
        "plt.show()"
      ],
      "metadata": {
        "colab": {
          "base_uri": "https://localhost:8080/",
          "height": 265
        },
        "id": "cbE3vbIb0yWD",
        "outputId": "a170b40b-f82c-4ce8-f568-ded983e84b23"
      },
      "execution_count": 137,
      "outputs": [
        {
          "output_type": "display_data",
          "data": {
            "text/plain": [
              "<Figure size 432x288 with 1 Axes>"
            ],
            "image/png": "[encoded data removed]"
          },
          "metadata": {
            "needs_background": "light"
          }
        }
      ]
    }
  ]
}